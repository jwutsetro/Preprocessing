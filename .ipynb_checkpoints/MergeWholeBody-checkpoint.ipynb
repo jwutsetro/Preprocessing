{
 "cells": [
  {
   "cell_type": "code",
   "execution_count": 1,
   "metadata": {},
   "outputs": [],
   "source": [
    "import SimpleITK as sitk\n",
    "import numpy as np\n",
    "import numpy.ma as ma\n",
    "import sys\n",
    "from os import listdir\n",
    "import glob\n",
    "from os.path import isfile, join\n",
    "# glob for the different aquisitions \n",
    "#\n",
    "#input = sys.argv[1]\n",
    "#patient = sys.argv[2]\n",
    "#acquisition = sys.argv[3]\n",
    "#axis = sys.argv[4]\n",
    "\n",
    "\n",
    "stations = ['head','torso','pelvis','legs','llegs','lllegs', 'feet']\n",
    "modalities=['ADC','T1','b2000','b1000','b1500','b0']\n",
    "\n",
    "def is_functional(WB_dict):\n",
    "    func_dir=[ 1.,0.,-0.,-0.,1.,0.,0., -0.,  1.]\n",
    "    ana_dir=[ 1. , 0.,  0., -0., -0.,  1.,  0., -1., -0.]\n",
    "    if np.all(np.around(list(WB_dict.values())[0].get('direction'))==func_dir):\n",
    "        return True\n",
    "    elif np.all(np.around(list(WB_dict.values())[0].get('direction'))==ana_dir):\n",
    "        return False\n",
    "    else:\n",
    "        return False\n",
    "        #raise Exception('The direction of the input file is not correct')\n",
    "    \n",
    "def calculate_overlay(WB_dict):\n",
    "    if is_functional(WB_dict):\n",
    "        axis=2\n",
    "    else:\n",
    "        axis=1\n",
    "    for i, station in enumerate(list(WB_dict.keys())):\n",
    "        if i ==0:\n",
    "            WB_dict.get(station)['overlay']=0\n",
    "        else:\n",
    "            originL=WB_dict.get(station).get('origin')\n",
    "            originH=WB_dict.get(stations[i-1]).get('origin')\n",
    "            sizeH=WB_dict.get(stations[i-1]).get('size')\n",
    "            spacingH=WB_dict.get(stations[i-1]).get('spacing')\n",
    "            overlay = int(np.ceil((sizeH[2]*spacingH[2]-(originH[2]-originL[2]))/spacingH[2]))\n",
    "            #overlay = np.floor((originL[2]-(originH[2]-spacingH[axis]*sizeH[axis]))/spacingH[axis])\n",
    "            WB_dict.get(station)['overlay']=overlay\n",
    "    \n",
    "    return WB_dict\n",
    "\n",
    "def get_stations(folder):\n",
    "    file_names = [f for f in listdir(folder) if isfile(join(folder, f))]\n",
    "    files=[]\n",
    "    for station in stations:\n",
    "        file=glob.glob(folder+'/*'+station+'*'+'.mhd')\n",
    "        if file !=[]:\n",
    "            files+=file\n",
    "    WB_dict=dict()        \n",
    "    \n",
    "    for i, file in enumerate(files):\n",
    "        station=sitk.ReadImage(file)\n",
    "        origin = station.GetOrigin()\n",
    "        spacing = station.GetSpacing()\n",
    "        size = station.GetSize()\n",
    "        direction = station.GetDirection()\n",
    "        WB_dict[stations[i]]={'image':station,'origin':origin,'spacing':spacing,'size':size,'direction':direction}\n",
    "        \n",
    "        \n",
    " #   if is_functional(WB_dict):\n",
    "  #      WB_dict=dict()\n",
    "   #     for i, file in enumerate(reversed(files)):\n",
    "    #        station=sitk.ReadImage(file)\n",
    "     #       origin = station.GetOrigin()\n",
    "      #      spacing = station.GetSpacing()\n",
    "       #     size = station.GetSize()\n",
    "        #    direction = station.GetDirection()\n",
    "         #   WB_dict[stations[i]]={'image':station,'origin':origin,'spacing':spacing,'size':size,'direction':direction}\n",
    "    \n",
    "    WB_dict=calculate_overlay(WB_dict)\n",
    "    print(WB_dict)\n",
    "    return WB_dict\n",
    "\n",
    "def cumulative_size(WB_dict):\n",
    "    if is_functional(WB_dict):\n",
    "        axis=2\n",
    "    else:\n",
    "        axis=1\n",
    "    WB_size=0\n",
    "    for key , value in WB_dict.items():\n",
    "\n",
    "        WB_size+=value.get('size')[axis]-value.get('overlay')\n",
    "\n",
    "    # if direction is functional:\n",
    "\n",
    "    return WB_size\n",
    "\n",
    "def get_template_data(WB_dict):\n",
    "    value=list(WB_dict.values())[0]\n",
    "    size = value.get('size')\n",
    "    spacing = value.get('spacing')\n",
    "    origin = value.get('origin')\n",
    "    direction = value.get('direction')\n",
    "    \n",
    "    return size,spacing,origin,direction\n",
    "\n",
    "def get_index(i,WB_dict):\n",
    "    if is_functional(WB_dict):\n",
    "        axis=2\n",
    "    else:\n",
    "        axis=1\n",
    "    size=0\n",
    "    overlay=0\n",
    "    for j in range(i):\n",
    "        size+=list(WB_dict.values())[j].get('size')[axis]\n",
    "        if j<i-1:\n",
    "            overlay+=list(WB_dict.values())[j+1].get('overlay')\n",
    "        else:\n",
    "            overlay+=0.5*list(WB_dict.values())[i].get('overlay')\n",
    "    return size-overlay\n",
    "\n",
    "def stitch_ana(WB_dict):\n",
    "    #create an empty template \n",
    "    size,spacing,origin,direction=get_template_data(WB_dict)\n",
    "    cummulativeSize = cumulative_size(WB_dict)\n",
    "    \n",
    "    wholeBody = sitk.Image(size[0], int(cummulativeSize), size[2], sitk.sitkFloat32)\n",
    "    wholeBody.SetSpacing(spacing)\n",
    "    wholeBody.SetOrigin(origin)\n",
    "    wholeBody.SetDirection(direction)\n",
    "    \n",
    "    #pasting the stations in the empty template\n",
    "    paste = sitk.PasteImageFilter()\n",
    "    stations=list(WB_dict.keys())\n",
    "    for i, station in enumerate(stations):\n",
    "        image=WB_dict.get(stations[i]).get('image')\n",
    "        if i ==0:\n",
    "            paste.SetDestinationIndex([0,0,0])\n",
    "            paste.SetSourceIndex([0,0,0])\n",
    "            paste.SetSourceSize(size)\n",
    "            wholeBody = paste.Execute(wholeBody, image)\n",
    "        else:\n",
    "            index=get_index(i,WB_dict)\n",
    "            sizeL=WB_dict.get(stations[i]).get('size')\n",
    "            overlay=WB_dict.get(stations[i]).get('overlay')\n",
    "            \n",
    "            paste.SetDestinationIndex([0,int(index),0])\n",
    "            paste.SetSourceIndex([0,int(np.floor(0.5*overlay)),0])\n",
    "            paste.SetSourceSize([sizeL[0], int(sizeL[1]-np.floor(0.5*overlay)), sizeL[2]])\n",
    "            \n",
    "            wholeBody = paste.Execute(wholeBody, image)\n",
    "     \n",
    "    return wholeBody\n",
    "\n",
    "def stitch_func(WB_dict,cummulativeSize):\n",
    "    #create an empty template \n",
    "    size,spacing,origin,direction=get_template_data(WB_dict)\n",
    "    cummulativeSize = cumulative_size(WB_dict)\n",
    "    wholeBody = sitk.Image(size[0], size[1], int(cummulativeSize), sitk.sitkFloat32)    \n",
    "    wholeBody.SetSpacing(spacing)\n",
    "    wholeBody.SetOrigin(origin)\n",
    "    wholeBody.SetDirection(direction)\n",
    "    \n",
    "    #pasting the stations in the empty template\n",
    "    paste = sitk.PasteImageFilter()\n",
    "    stations=list(WB_dict.keys())\n",
    "    for i, station in enumerate(reversed(stations)):\n",
    "        image=WB_dict.get(station).get('image')\n",
    "        if i ==0:\n",
    "            paste.SetDestinationIndex([0,0,0])\n",
    "            paste.SetSourceIndex([0,0,0])\n",
    "            paste.SetSourceSize(size)\n",
    "            wholeBody = paste.Execute(wholeBody, image)\n",
    "        else:\n",
    "            index=get_index(i,WB_dict)\n",
    "            print(index)\n",
    "            sizeH=WB_dict.get(station).get('size')\n",
    "            overlay=WB_dict.get(stations[i-1]).get('overlay')\n",
    "\n",
    "            paste.SetDestinationIndex([0,0,int(index)])\n",
    "            paste.SetSourceIndex([0,0, int(np.floor(0.5*overlay))])\n",
    "            paste.SetSourceSize([sizeH[0], sizeH[1], int(sizeH[2]-np.floor(0.5*overlay))]) \n",
    "            wholeBody = paste.Execute(wholeBody, image)\n",
    "     \n",
    "    return wholeBody\n",
    "\n",
    "\n",
    "\n",
    "def linear_interpolation(top,bottom):\n",
    "    if top.shape != bottom.shape:\n",
    "        print('The overlay region is not the same size')\n",
    "        return a\n",
    "    else:\n",
    "        c=np.empty(top.shape)\n",
    "        for i in range(top.shape[1]):\n",
    "            c[:,i,:]=(-(1/(top.shape[1]-1)*i)+1)*top[:,i,:]+(1/(top.shape[1]-1)*i)*bottom[:,i,:]\n",
    "        \n",
    "        return c\n",
    "\n",
    "def concatenate(images,overlays):\n",
    "    for i in range(len(images)):\n",
    "        overlays=list(map(int,overlays))\n",
    "        #copy the non overlay region\n",
    "        if i==0:\n",
    "            print('conc full image')\n",
    "            image=images[i][:,:-overlays[i],:]\n",
    "        elif i!=(len(images)-1):\n",
    "            print('conc half image')\n",
    "            print(images[i].shape)\n",
    "            image=np.concatenate((image,images[i][:,overlays[i]:-overlays[i+1],:]),axis=1)\n",
    "        else:\n",
    "            print('conc bottom')\n",
    "            image=np.concatenate((image,images[i][:,overlays[i-1]:,:]),axis=1)\n",
    "        print('The image size before overlap is')\n",
    "        print(image.shape)\n",
    "        if i<len(images)-1:\n",
    "            overlay=linear_interpolation(images[i][:,-overlays[i]:,:],images[i+1][:,-overlays[i]:,:])\n",
    "            image=np.concatenate((image,overlay),axis=1)\n",
    "        print('The image size after overlap is')\n",
    "        print(image.shape)\n",
    "    return image\n",
    "    \n",
    "    \n",
    "def interpolate_func(WB_dict,cummulativeSize):\n",
    "    \n",
    "    \n",
    "    return wholeBody\n",
    "\n",
    "def mask_image_multiply(mask, image):\n",
    "    components_per_pixel = image.GetNumberOfComponentsPerPixel()\n",
    "    if  components_per_pixel == 1:\n",
    "        return mask*image\n",
    "    else:\n",
    "        return sitk.Compose([mask*sitk.VectorIndexSelectionCast(image,channel) for channel in range(components_per_pixel)])\n",
    "\n",
    "def alpha_blend(image1, image2, alpha = 0.5, mask1=None,  mask2=None):\n",
    "    '''\n",
    "    Alaph blend two images, pixels can be scalars or vectors.\n",
    "    The region that is alpha blended is controled by the given masks.\n",
    "    '''\n",
    "    \n",
    "    if not mask1:\n",
    "        mask1 = sitk.Image(image1.GetSize(), sitk.sitkFloat32) + 1.0\n",
    "        mask1.CopyInformation(image1)\n",
    "    else:\n",
    "        mask1 = sitk.Cast(mask1, sitk.sitkFloat32)\n",
    "    if not mask2:\n",
    "        mask2 = sitk.Image(image2.GetSize(),sitk.sitkFloat32) + 1\n",
    "        mask2.CopyInformation(image2)\n",
    "    else:        \n",
    "        mask2 = sitk.Cast(mask2, sitk.sitkFloat32)\n",
    "\n",
    "    components_per_pixel = image1.GetNumberOfComponentsPerPixel()\n",
    "    if components_per_pixel>1:\n",
    "        img1 = sitk.Cast(image1, sitk.sitkVectorFloat32)\n",
    "        img2 = sitk.Cast(image2, sitk.sitkVectorFloat32)\n",
    "    else:\n",
    "        img1 = sitk.Cast(image1, sitk.sitkFloat32)\n",
    "        img2 = sitk.Cast(image2, sitk.sitkFloat32)\n",
    "        \n",
    "    intersection_mask = mask1*mask2\n",
    "    \n",
    "    intersection_image = mask_image_multiply(alpha*intersection_mask, img1) + \\\n",
    "                         mask_image_multiply((1-alpha)*intersection_mask, img2)\n",
    "    return intersection_image + mask_image_multiply(mask2-intersection_mask, img2) + \\\n",
    "           mask_image_multiply(mask1-intersection_mask, img1)\n",
    "\n",
    "def interpolate_ana(WB_dict):\n",
    "#create an empty template \n",
    "    size,spacing,origin,direction=get_template_data(WB_dict)\n",
    "    cummulativeSize = cumulative_size(WB_dict)\n",
    "    \n",
    "    wholeBody = sitk.Image(size[0], int(cummulativeSize), size[2], sitk.sitkFloat32)\n",
    "    wholeBody.SetSpacing(spacing)\n",
    "    wholeBody.SetOrigin(origin)\n",
    "    wholeBody.SetDirection(direction)\n",
    "    \n",
    "    #pasting the stations in the empty template\n",
    "    paste = sitk.PasteImageFilter()\n",
    "    stations=list(WB_dict.keys())\n",
    "    for i, station in enumerate(stations):\n",
    "        if i < len(stations)-1:\n",
    "            image=WB_dict.get(stations[i]).get('image')\n",
    "            index=get_index(i,WB_dict)\n",
    "            sizeL=WB_dict.get(stations[i]).get('size')\n",
    "            overlay_prev=WB_dict.get(stations[i]).get('overlay')\n",
    "            overlay_next=WB_dict.get(stations[i+1]).get('overlay')\n",
    "            paste.SetDestinationIndex([0,int(index),0])\n",
    "            paste.SetSourceIndex([0,int(np.floor(overlay_prev)),0])\n",
    "            paste.SetSourceSize([sizeL[0], int(sizeL[1]-np.floor(overlay_prev)-np.floor(overlay_next)), sizeL[2]])\n",
    "\n",
    "            #for j in range(overlay_next):\n",
    "                \n",
    "            \n",
    "        else:\n",
    "            image=WB_dict.get(stations[i]).get('image')\n",
    "            index=get_index(i,WB_dict)\n",
    "            sizeL=WB_dict.get(stations[i]).get('size')\n",
    "            overlay_prev=WB_dict.get(stations[i]).get('overlay')\n",
    "            overlay_next=0\n",
    "            paste.SetDestinationIndex([0,int(index),0])\n",
    "            paste.SetSourceIndex([0,int(np.floor(overlay_prev)),0])\n",
    "            paste.SetSourceSize([sizeL[0], int(sizeL[1]-np.floor(overlay_prev)-np.floor(overlay_next)), sizeL[2]])\n",
    "        wholeBody = paste.Execute(wholeBody, image)\n",
    "    return wholeBody\n",
    "\n",
    "def constructWholeBody(folder,interpolate):\n",
    "    ### Load all stations and metadata\n",
    "    WB_dict=get_stations(folder)\n",
    "\n",
    "    # calculate final size\n",
    "    if interpolate:\n",
    "        if is_functional(WB_dict):\n",
    "            wholeBody=interpolate_func(WB_dict)\n",
    "        else:\n",
    "            wholeBody=interpolate_ana(WB_dict)\n",
    "     \n",
    "    else :\n",
    "        if is_functional(WB_dict):\n",
    "            wholeBody=stitch_func(WB_dict)\n",
    "        else:\n",
    "            wholeBody=stitch_ana(WB_dict)\n",
    "        \n",
    "\n",
    "    \n",
    "    return wholeBody\n",
    "    \n",
    "#folder=input+'/Source_T1/'+patient+'/'+acquisition\n",
    "#wholeBody = constructWholeBody(folder)\n",
    "#filenameOut = input+'/Source_T1/'+patient+'/'+acquisition+'/Whole_Body_T1.mhd'\n",
    "\n",
    "# Save whole-body image\n",
    "#writer = sitk.ImageFileWriter()\n",
    "#writer.SetFileName(filenameOut)\n",
    "#writer.Execute(wholeBody)\n",
    "\n"
   ]
  },
  {
   "cell_type": "code",
   "execution_count": 46,
   "metadata": {},
   "outputs": [],
   "source": [
    "#image=sitk.ReadImage('/Users/joriswuts/Desktop/dataset_03/JSW-020a/DixonIP.mhd')\n",
    "import os\n",
    "nifti_list=glob.glob('/Users/joriswuts/Desktop/dataset_0*'+'/*/DixonIP.*')\n",
    "for image in nifti_list:\n",
    "    images=sitk.ReadImage(image)\n",
    "    writer = sitk.ImageFileWriter()\n",
    "    writer.SetFileName(image[:-14]+'T1.nii.gz')\n",
    "    writer.Execute(images)"
   ]
  },
  {
   "cell_type": "code",
   "execution_count": null,
   "metadata": {},
   "outputs": [],
   "source": [
    "import os\n",
    "def register_image2image(movingImage,fixedImage):\n",
    "    \n",
    "    fixedImage=sitk.ReadImage(fixedImage)\n",
    "    movingImage=sitk.ReadImage(movingImage)\n",
    "    elastixImageFilter=sitk.ElastixImageFilter()\n",
    "    elastixImageFilter.LogToConsoleOff()\n",
    "    writer = sitk.ImageFileWriter()\n",
    "    #fixedImageMask=fixedImage>-100000\n",
    "    fixedImage.SetDirection(movingImage.GetDirection())\n",
    "    #fixedImageMask.SetSpacing(fixedImage.GetSpacing())\n",
    "    parameterMapVector = sitk.VectorOfParameterMap()\n",
    "    elastixImageFilter.SetFixedImage(fixedImage)\n",
    "    elastixImageFilter.SetMovingImage(movingImage)\n",
    "    #elastixImageFilter.SetFixedMask(fixedImageMask)\n",
    "    parameterMapVector.append(sitk.ReadParameterFile(\n",
    "                        '/Users/joriswuts/Clean_Code_versino_IMAC/01_PREPROCESSING/Euler_S2S_MSD2.txt'))\n",
    "    parameterMapVector.append(sitk.ReadParameterFile(\n",
    "                        '/Users/joriswuts/Clean_Code_versino_IMAC/01_PREPROCESSING/S2A_Pair_BSpline_WB2.txt'))    \n",
    "    elastixImageFilter.SetParameterMap(parameterMapVector)\n",
    "    elastixImageFilter.Execute()\n",
    "\n",
    "    parammap=elastixImageFilter.GetTransformParameterMap()[0]\n",
    "    return parammap \n",
    "patients=['/Users/joriswuts/Desktop/dataset_01/S033-2 copy','/Users/joriswuts/Desktop/dataset_01/S034-2 copy','/Users/joriswuts/Desktop/dataset_01/S045-2 copy']\n",
    "for patient in patients:\n",
    "    fixed_image=patient+'/T1.nii.gz'\n",
    "    moving_image=patient+'/Whole_Body_T1.mhd'\n",
    "    if os.path.isfile(moving_image):\n",
    "        parammap=register_image2image(moving_image,fixed_image)\n",
    "        writer = sitk.ImageFileWriter()\n",
    "        transformixImageFilter=sitk.TransformixImageFilter()\n",
    "        transformixImageFilter.SetTransformParameterMap(parammap)\n",
    "        #transformixImageFilter.LogToConsoleOff()\n",
    "        # all images including the original one \n",
    "        func_modalities=glob.glob(patient+'/*Skeleton*.nii.gz')+glob.glob(patient+'/*smoothed*.nii.gz')\n",
    "        for modality in func_modalities:\n",
    "\n",
    "            image_path=modality\n",
    "            movingImage=sitk.ReadImage(image_path)\n",
    "            transformixImageFilter.SetMovingImage(movingImage)\n",
    "            transformixImageFilter.Execute()\n",
    "            resultImage=transformixImageFilter.GetResultImage()\n",
    "            resultImage=resultImage>0.5\n",
    "            #resultImage.clip(0,max)\n",
    "            writer.SetFileName(image_path)\n",
    "            writer.Execute(resultImage)"
   ]
  },
  {
   "cell_type": "code",
   "execution_count": 31,
   "metadata": {},
   "outputs": [
    {
     "data": {
      "text/plain": [
       "'/Users/joriswuts/Desktop/dataset_03/JSW-027a/rb1000.nii'"
      ]
     },
     "execution_count": 31,
     "metadata": {},
     "output_type": "execute_result"
    }
   ],
   "source": [
    "a='/Users/joriswuts/Desktop/dataset_03/JSW-027a/rb1000.mhd'\n",
    "a[:-3]+'nii'"
   ]
  },
  {
   "cell_type": "code",
   "execution_count": 21,
   "metadata": {},
   "outputs": [],
   "source": [
    "import numpy as np\n",
    "\n",
    "import SimpleITK as sitk\n",
    "\n",
    "\n",
    "resample = sitk.ResampleImageFilter()\n",
    "resample.SetInterpolator(sitk.sitkLinear)\n",
    "resample.SetOutputDirection(image.GetDirection())\n",
    "resample.SetOutputOrigin(image.GetOrigin())\n",
    "new_spacing = [1, 1, 1]\n",
    "resample.SetOutputSpacing(new_spacing)\n",
    "\n",
    "orig_size = np.array(image.GetSize(), dtype=np.int)\n",
    "orig_spacing = image.GetSpacing()\n",
    "new_size = [osize*(ospac/newspac) for osize,ospac,newspac in zip(orig_size,orig_spacing,new_spacing)]\n",
    "new_size = [np.ceil(val).astype(np.int) for val in new_size] #  Image dimensions are in integers\n",
    "new_size = [int(s) for s in new_size]\n",
    "resample.SetSize(new_size)\n",
    "\n",
    "newimage = resample.Execute(image)"
   ]
  },
  {
   "cell_type": "code",
   "execution_count": 22,
   "metadata": {},
   "outputs": [],
   "source": [
    "writer = sitk.ImageFileWriter()\n",
    "writer.SetFileName('/Users/joriswuts/Desktop/dataset_03/JSW-020a/DixonIP_resampled.mhd')\n",
    "writer.Execute(newimage)"
   ]
  },
  {
   "cell_type": "code",
   "execution_count": 11,
   "metadata": {},
   "outputs": [],
   "source": [
    "func_dir=[ 1.,0.,-0.,-0.,1.,0.,0., -0.,  1.]"
   ]
  },
  {
   "cell_type": "code",
   "execution_count": 23,
   "metadata": {},
   "outputs": [
    {
     "data": {
      "text/plain": [
       "[1, 2, 3]"
      ]
     },
     "execution_count": 23,
     "metadata": {},
     "output_type": "execute_result"
    }
   ],
   "source": [
    "[[1,2,3],[4,5,6]][0]"
   ]
  },
  {
   "cell_type": "code",
   "execution_count": 26,
   "metadata": {},
   "outputs": [
    {
     "name": "stdout",
     "output_type": "stream",
     "text": [
      "/Users/joriswuts/Desktop/dataset_03/JSW-027a/rb1000.mhd\n",
      "/Users/joriswuts/Desktop/dataset_03/CUSL-002/rb1000.mhd\n",
      "/Users/joriswuts/Desktop/dataset_03/JSW-024a/rb1000.mhd\n",
      "/Users/joriswuts/Desktop/dataset_03/S033-2/rb1000.mhd\n",
      "/Users/joriswuts/Desktop/dataset_03/S027-4/rb1000.mhd\n",
      "/Users/joriswuts/Desktop/dataset_03/JSW-019a/rb1000.mhd\n",
      "/Users/joriswuts/Desktop/dataset_03/S034-2/rb1000.mhd\n",
      "/Users/joriswuts/Desktop/dataset_03/JSW-020a/rb1000.mhd\n",
      "/Users/joriswuts/Desktop/dataset_03/S024-3/rb1000.mhd\n",
      "/Users/joriswuts/Desktop/dataset_03/S024-4/b1000.mhd\n",
      "/Users/joriswuts/Desktop/dataset_03/CUSL-029/rb1000.mhd\n",
      "/Users/joriswuts/Desktop/dataset_03/CUSL-016/rb1000.mhd\n",
      "/Users/joriswuts/Desktop/dataset_03/JSW-023a/rb1000.mhd\n",
      "/Users/joriswuts/Desktop/dataset_03/CUSL-018/rb1000.mhd\n",
      "/Users/joriswuts/Desktop/dataset_03/S024-5/rb1000.mhd\n",
      "/Users/joriswuts/Desktop/dataset_03/JSW-029a/rb1000.mhd\n",
      "/Users/joriswuts/Desktop/dataset_03/S045-2/rb1000.mhd\n",
      "/Users/joriswuts/Desktop/dataset_03/CUSL-039/rb1000.mhd\n",
      "/Users/joriswuts/Desktop/dataset_03/JSW-022a/rb1000.mhd\n",
      "/Users/joriswuts/Desktop/dataset_03/JSW-028a/rb1000.mhd\n",
      "/Users/joriswuts/Desktop/dataset_03/JSW-021a/rb1000.mhd\n",
      "/Users/joriswuts/Desktop/dataset_03/S033-1/rb1000.mhd\n",
      "/Users/joriswuts/Desktop/dataset_03/CUSL-007/rb1000.mhd\n",
      "/Users/joriswuts/Desktop/dataset_03/JSW-030a/rb1000.mhd\n",
      "/Users/joriswuts/Desktop/dataset_03/S034-1/rb1000.mhd\n",
      "/Users/joriswuts/Desktop/dataset_03/JSW-018a/rb1000.mhd\n",
      "/Users/joriswuts/Desktop/dataset_03/S032-2/rb1000.mhd\n",
      "/Users/joriswuts/Desktop/dataset_03/S024-7/rb1000.mhd\n",
      "/Users/joriswuts/Desktop/dataset_03/JSW-025a/rb1000.mhd\n",
      "/Users/joriswuts/Desktop/dataset_03/CUSL-022/rb1000.mhd\n",
      "/Users/joriswuts/Desktop/dataset_03/S045-1/rb1000.mhd\n",
      "/Users/joriswuts/Desktop/dataset_03/JSW-026a/rb1000.mhd\n",
      "/Users/joriswuts/Desktop/dataset_03/CUSL-024/rb1000.mhd\n"
     ]
    }
   ],
   "source": [
    "folder='/Users/joriswuts/Desktop/dataset_03'\n",
    "modality_list =[glob.glob(folder+'/*/*b1000.mhd'),glob.glob(folder+'/*/*T1.mhd')+glob.glob(folder+'/*/*DixonIP.mhd')]\n",
    "for file in modality_list[0]:\n",
    "    print(file)"
   ]
  },
  {
   "cell_type": "code",
   "execution_count": 2,
   "metadata": {},
   "outputs": [
    {
     "ename": "AttributeError",
     "evalue": "module 'SimpleITK' has no attribute 'ElastixImageFilter'",
     "output_type": "error",
     "traceback": [
      "\u001b[0;31m---------------------------------------------------------------------------\u001b[0m",
      "\u001b[0;31mAttributeError\u001b[0m                            Traceback (most recent call last)",
      "\u001b[0;32m<ipython-input-2-e31094f3709e>\u001b[0m in \u001b[0;36m<module>\u001b[0;34m\u001b[0m\n\u001b[0;32m----> 1\u001b[0;31m \u001b[0melastixImageFilter\u001b[0m\u001b[0;34m=\u001b[0m\u001b[0msitk\u001b[0m\u001b[0;34m.\u001b[0m\u001b[0mElastixImageFilter\u001b[0m\u001b[0;34m(\u001b[0m\u001b[0;34m)\u001b[0m\u001b[0;34m\u001b[0m\u001b[0;34m\u001b[0m\u001b[0m\n\u001b[0m",
      "\u001b[0;31mAttributeError\u001b[0m: module 'SimpleITK' has no attribute 'ElastixImageFilter'"
     ]
    }
   ],
   "source": [
    "elastixImageFilter=sitk.ElastixImageFilter()"
   ]
  },
  {
   "cell_type": "code",
   "execution_count": 1,
   "metadata": {},
   "outputs": [
    {
     "name": "stdout",
     "output_type": "stream",
     "text": [
      "0\n"
     ]
    }
   ],
   "source": [
    "for i in range(1):\n",
    "    print(i)"
   ]
  },
  {
   "cell_type": "code",
   "execution_count": 2,
   "metadata": {},
   "outputs": [],
   "source": [
    "a=[1,2,3]"
   ]
  },
  {
   "cell_type": "code",
   "execution_count": 3,
   "metadata": {},
   "outputs": [
    {
     "data": {
      "text/plain": [
       "[1, 2, 3]"
      ]
     },
     "execution_count": 3,
     "metadata": {},
     "output_type": "execute_result"
    }
   ],
   "source": [
    "a"
   ]
  },
  {
   "cell_type": "code",
   "execution_count": 4,
   "metadata": {},
   "outputs": [
    {
     "data": {
      "text/plain": [
       "[1, 2, 3]"
      ]
     },
     "execution_count": 4,
     "metadata": {},
     "output_type": "execute_result"
    }
   ],
   "source": [
    "a+[]"
   ]
  },
  {
   "cell_type": "code",
   "execution_count": 5,
   "metadata": {},
   "outputs": [
    {
     "data": {
      "text/plain": [
       "True"
      ]
     },
     "execution_count": 5,
     "metadata": {},
     "output_type": "execute_result"
    }
   ],
   "source": [
    "a='gfyuewbv'\n",
    "'g' in a "
   ]
  },
  {
   "cell_type": "code",
   "execution_count": 18,
   "metadata": {},
   "outputs": [],
   "source": [
    "a='DWIBS b0-50'\n"
   ]
  },
  {
   "cell_type": "code",
   "execution_count": 19,
   "metadata": {},
   "outputs": [
    {
     "data": {
      "text/plain": [
       "'DWIB'"
      ]
     },
     "execution_count": 19,
     "metadata": {},
     "output_type": "execute_result"
    }
   ],
   "source": [
    "a[0:4]"
   ]
  },
  {
   "cell_type": "code",
   "execution_count": null,
   "metadata": {},
   "outputs": [],
   "source": []
  }
 ],
 "metadata": {
  "kernelspec": {
   "display_name": "Python 3",
   "language": "python",
   "name": "python3"
  },
  "language_info": {
   "codemirror_mode": {
    "name": "ipython",
    "version": 3
   },
   "file_extension": ".py",
   "mimetype": "text/x-python",
   "name": "python",
   "nbconvert_exporter": "python",
   "pygments_lexer": "ipython3",
   "version": "3.8.2"
  }
 },
 "nbformat": 4,
 "nbformat_minor": 4
}
